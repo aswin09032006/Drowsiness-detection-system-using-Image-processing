{
 "cells": [
  {
   "cell_type": "code",
   "execution_count": 1,
   "id": "initial_id",
   "metadata": {
    "collapsed": true,
    "ExecuteTime": {
     "end_time": "2024-01-30T10:02:29.590615200Z",
     "start_time": "2024-01-30T10:02:29.581902100Z"
    }
   },
   "outputs": [],
   "source": [
    "import os\n",
    "import glob\n",
    "import shutil\n",
    "from tqdm import tqdm"
   ]
  },
  {
   "cell_type": "markdown",
   "source": [
    "#subject ID:\n",
    "xxx\n",
    "\n",
    "image number:\n",
    "xxx\n",
    "\n",
    "gender:\n",
    "0 - male\n",
    "1 - famale\n",
    "\n",
    "glasses:\n",
    "0 - no\n",
    "1 - yes\n",
    "\n",
    "eye state:\n",
    "0 - close\n",
    "1 - open\n",
    "\n",
    "reflections:\n",
    "0 - none\n",
    "1 - low\n",
    "2 - high\n",
    "\n",
    "lighting conditions/image quality:\n",
    "0 - bad\n",
    "1 - good\n",
    "\n",
    "sensor type:\n",
    "01 - RealSense SR300 640x480\n",
    "02 - IDS Imaging, 1280x1024\n",
    "03 - Aptina Imagin 752x480\n",
    "\n",
    "example:\n",
    "s001_00123_0_0_0_0_0_01.png\n"
   ],
   "metadata": {
    "collapsed": false
   },
   "id": "73a6052f5f26b766"
  },
  {
   "cell_type": "code",
   "execution_count": 2,
   "outputs": [
    {
     "name": "stderr",
     "output_type": "stream",
     "text": [
      "0it [00:00, ?it/s]\n",
      "100%|██████████| 3242/3242 [00:01<00:00, 1914.98it/s]\n",
      "100%|██████████| 1114/1114 [00:00<00:00, 2141.36it/s]\n",
      "100%|██████████| 679/679 [00:00<00:00, 1975.29it/s]\n",
      "100%|██████████| 1069/1069 [00:00<00:00, 2136.32it/s]\n",
      "100%|██████████| 736/736 [00:00<00:00, 2119.15it/s]\n",
      "100%|██████████| 1012/1012 [00:00<00:00, 2212.77it/s]\n",
      "100%|██████████| 624/624 [00:00<00:00, 2102.04it/s]\n",
      "100%|██████████| 832/832 [00:00<00:00, 2218.55it/s]\n",
      "100%|██████████| 387/387 [00:00<00:00, 2224.31it/s]\n",
      "100%|██████████| 399/399 [00:00<00:00, 2321.47it/s]\n",
      "100%|██████████| 1648/1648 [00:00<00:00, 2177.88it/s]\n",
      "100%|██████████| 8728/8728 [00:04<00:00, 2047.62it/s]\n",
      "100%|██████████| 3605/3605 [00:01<00:00, 2152.96it/s]\n",
      "100%|██████████| 8884/8884 [00:04<00:00, 2161.27it/s]\n",
      "100%|██████████| 1132/1132 [00:00<00:00, 2069.94it/s]\n",
      "100%|██████████| 1889/1889 [00:00<00:00, 2088.21it/s]\n",
      "100%|██████████| 1648/1648 [00:00<00:00, 2172.09it/s]\n",
      "100%|██████████| 4410/4410 [00:02<00:00, 2153.97it/s]\n",
      "100%|██████████| 6175/6175 [00:02<00:00, 2156.47it/s]\n",
      "100%|██████████| 704/704 [00:00<00:00, 2122.21it/s]\n",
      "100%|██████████| 987/987 [00:00<00:00, 2161.15it/s]\n",
      "100%|██████████| 382/382 [00:00<00:00, 2208.42it/s]\n",
      "100%|██████████| 522/522 [00:00<00:00, 2227.16it/s]\n",
      "100%|██████████| 752/752 [00:00<00:00, 2187.24it/s]\n",
      "100%|██████████| 1502/1502 [00:00<00:00, 2237.36it/s]\n",
      "100%|██████████| 1246/1246 [00:00<00:00, 2004.50it/s]\n",
      "100%|██████████| 665/665 [00:00<00:00, 1994.23it/s]\n",
      "100%|██████████| 736/736 [00:00<00:00, 2141.09it/s]\n",
      "100%|██████████| 1393/1393 [00:00<00:00, 2088.76it/s]\n",
      "100%|██████████| 1384/1384 [00:00<00:00, 2175.09it/s]\n",
      "100%|██████████| 1738/1738 [00:00<00:00, 2071.41it/s]\n",
      "100%|██████████| 6162/6162 [00:03<00:00, 1757.00it/s]\n",
      "100%|██████████| 681/681 [00:00<00:00, 1556.57it/s]\n",
      "100%|██████████| 739/739 [00:00<00:00, 1561.44it/s]\n",
      "100%|██████████| 642/642 [00:00<00:00, 1497.09it/s]\n",
      "100%|██████████| 6193/6193 [00:03<00:00, 1581.96it/s]\n",
      "100%|██████████| 10257/10257 [00:06<00:00, 1587.22it/s]\n"
     ]
    }
   ],
   "source": [
    "raw_data = r'D:\\MRL EYE DATA\\mrlEyes_2018_01'\n",
    "for dirpath, dirname, filename in os.walk(raw_data):\n",
    "    for file in tqdm([f for f in filename if f.endswith('.png')]):\n",
    "        if file.split('_')[4] == '0':\n",
    "            path= r'D:\\MRL EYE DATA\\Prepared_data\\Closed Eyes'\n",
    "            if not os.path.exists(path):\n",
    "                os.makedirs(path)\n",
    "            shutil.copy(src=dirpath + '/' + file, dst= path)\n",
    "        elif file.split('_')[4] == '1':\n",
    "            path= r'D:\\MRL EYE DATA\\Prepared_data\\Open Eyes'\n",
    "            if not os.path.exists(path):\n",
    "                os.makedirs(path)\n",
    "            shutil.copy(src=dirpath + '/' + file, dst= path)       "
   ],
   "metadata": {
    "collapsed": false,
    "ExecuteTime": {
     "end_time": "2024-01-30T10:15:34.541493200Z",
     "start_time": "2024-01-30T10:14:50.626078900Z"
    }
   },
   "id": "53e884094cc0851a"
  },
  {
   "cell_type": "code",
   "execution_count": null,
   "outputs": [],
   "source": [],
   "metadata": {
    "collapsed": false
   },
   "id": "f5a5382a4813e92c"
  }
 ],
 "metadata": {
  "kernelspec": {
   "display_name": "Python 3",
   "language": "python",
   "name": "python3"
  },
  "language_info": {
   "codemirror_mode": {
    "name": "ipython",
    "version": 2
   },
   "file_extension": ".py",
   "mimetype": "text/x-python",
   "name": "python",
   "nbconvert_exporter": "python",
   "pygments_lexer": "ipython2",
   "version": "2.7.6"
  }
 },
 "nbformat": 4,
 "nbformat_minor": 5
}
